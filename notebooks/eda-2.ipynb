{
 "cells": [
  {
   "cell_type": "code",
   "execution_count": 1,
   "metadata": {},
   "outputs": [],
   "source": [
    "import numpy as np\n",
    "import pandas as pd\n",
    "import seaborn as sns\n",
    "import matplotlib.pyplot as plt"
   ]
  },
  {
   "cell_type": "code",
   "execution_count": 2,
   "metadata": {},
   "outputs": [],
   "source": [
    "# data importing\n",
    "DATA_DIR_PATH = '/Users/cindywang/PycharmProjects/nch_rop/data/'\n",
    "adt_df = pd.read_csv(DATA_DIR_PATH + 'Batch1a/ADT.csv')\n",
    "ec_df = pd.read_csv(DATA_DIR_PATH + 'Batch1a/Encounter_Characteristics.csv')\n",
    "vitals_df = pd.read_csv(DATA_DIR_PATH + 'Batch1a/Vitals.csv')"
   ]
  },
  {
   "cell_type": "code",
   "execution_count": 3,
   "metadata": {},
   "outputs": [
    {
     "data": {
      "text/html": [
       "<div>\n",
       "<style scoped>\n",
       "    .dataframe tbody tr th:only-of-type {\n",
       "        vertical-align: middle;\n",
       "    }\n",
       "\n",
       "    .dataframe tbody tr th {\n",
       "        vertical-align: top;\n",
       "    }\n",
       "\n",
       "    .dataframe thead th {\n",
       "        text-align: right;\n",
       "    }\n",
       "</style>\n",
       "<table border=\"1\" class=\"dataframe\">\n",
       "  <thead>\n",
       "    <tr style=\"text-align: right;\">\n",
       "      <th></th>\n",
       "      <th>ENC_ID</th>\n",
       "      <th>DEPT_GROUP</th>\n",
       "      <th>DEPT_LOCATION</th>\n",
       "      <th>IN_DAY</th>\n",
       "      <th>IN_TIME</th>\n",
       "      <th>OUT_DAY</th>\n",
       "      <th>OUT_TIME</th>\n",
       "    </tr>\n",
       "  </thead>\n",
       "  <tbody>\n",
       "    <tr>\n",
       "      <th>0</th>\n",
       "      <td>572839292</td>\n",
       "      <td>NICU</td>\n",
       "      <td>On campus</td>\n",
       "      <td>0</td>\n",
       "      <td>09:34:00</td>\n",
       "      <td>17</td>\n",
       "      <td>16:29:00</td>\n",
       "    </tr>\n",
       "    <tr>\n",
       "      <th>1</th>\n",
       "      <td>572839292</td>\n",
       "      <td>Periop</td>\n",
       "      <td>On campus</td>\n",
       "      <td>17</td>\n",
       "      <td>16:29:00</td>\n",
       "      <td>17</td>\n",
       "      <td>17:56:00</td>\n",
       "    </tr>\n",
       "    <tr>\n",
       "      <th>2</th>\n",
       "      <td>572839292</td>\n",
       "      <td>NICU</td>\n",
       "      <td>On campus</td>\n",
       "      <td>17</td>\n",
       "      <td>17:56:00</td>\n",
       "      <td>96</td>\n",
       "      <td>12:47:00</td>\n",
       "    </tr>\n",
       "    <tr>\n",
       "      <th>3</th>\n",
       "      <td>572839292</td>\n",
       "      <td>Periop</td>\n",
       "      <td>On campus</td>\n",
       "      <td>96</td>\n",
       "      <td>12:47:00</td>\n",
       "      <td>96</td>\n",
       "      <td>15:17:00</td>\n",
       "    </tr>\n",
       "    <tr>\n",
       "      <th>4</th>\n",
       "      <td>572839292</td>\n",
       "      <td>NICU</td>\n",
       "      <td>On campus</td>\n",
       "      <td>96</td>\n",
       "      <td>15:17:00</td>\n",
       "      <td>96</td>\n",
       "      <td>15:18:00</td>\n",
       "    </tr>\n",
       "  </tbody>\n",
       "</table>\n",
       "</div>"
      ],
      "text/plain": [
       "      ENC_ID DEPT_GROUP DEPT_LOCATION  IN_DAY   IN_TIME  OUT_DAY  OUT_TIME\n",
       "0  572839292       NICU     On campus       0  09:34:00       17  16:29:00\n",
       "1  572839292     Periop     On campus      17  16:29:00       17  17:56:00\n",
       "2  572839292       NICU     On campus      17  17:56:00       96  12:47:00\n",
       "3  572839292     Periop     On campus      96  12:47:00       96  15:17:00\n",
       "4  572839292       NICU     On campus      96  15:17:00       96  15:18:00"
      ]
     },
     "execution_count": 3,
     "metadata": {},
     "output_type": "execute_result"
    }
   ],
   "source": [
    "adt_df.head()"
   ]
  },
  {
   "cell_type": "code",
   "execution_count": 4,
   "metadata": {},
   "outputs": [
    {
     "data": {
      "text/html": [
       "<div>\n",
       "<style scoped>\n",
       "    .dataframe tbody tr th:only-of-type {\n",
       "        vertical-align: middle;\n",
       "    }\n",
       "\n",
       "    .dataframe tbody tr th {\n",
       "        vertical-align: top;\n",
       "    }\n",
       "\n",
       "    .dataframe thead th {\n",
       "        text-align: right;\n",
       "    }\n",
       "</style>\n",
       "<table border=\"1\" class=\"dataframe\">\n",
       "  <thead>\n",
       "    <tr style=\"text-align: right;\">\n",
       "      <th></th>\n",
       "      <th>ENC_ID</th>\n",
       "      <th>GEST_AGE_INDAYS</th>\n",
       "      <th>BIRTH_WT_INOUNCES</th>\n",
       "      <th>GENDER</th>\n",
       "      <th>ETHNICITY</th>\n",
       "      <th>RACE</th>\n",
       "      <th>AGE_AT_ADMIT</th>\n",
       "      <th>ADMIT_DAY</th>\n",
       "      <th>ADMIT_TIME</th>\n",
       "      <th>DISCH_DAY</th>\n",
       "      <th>DISCH_TIME</th>\n",
       "    </tr>\n",
       "  </thead>\n",
       "  <tbody>\n",
       "    <tr>\n",
       "      <th>0</th>\n",
       "      <td>572839292</td>\n",
       "      <td>168</td>\n",
       "      <td>26.81</td>\n",
       "      <td>Female</td>\n",
       "      <td>Not Hispanic or Latino</td>\n",
       "      <td>White</td>\n",
       "      <td>5</td>\n",
       "      <td>0</td>\n",
       "      <td>09:34:00</td>\n",
       "      <td>164</td>\n",
       "      <td>16:56:00</td>\n",
       "    </tr>\n",
       "    <tr>\n",
       "      <th>1</th>\n",
       "      <td>572839294</td>\n",
       "      <td>180</td>\n",
       "      <td>34.39</td>\n",
       "      <td>Male</td>\n",
       "      <td>Not Hispanic or Latino</td>\n",
       "      <td>White</td>\n",
       "      <td>0</td>\n",
       "      <td>0</td>\n",
       "      <td>17:58:00</td>\n",
       "      <td>109</td>\n",
       "      <td>17:04:00</td>\n",
       "    </tr>\n",
       "    <tr>\n",
       "      <th>2</th>\n",
       "      <td>572839296</td>\n",
       "      <td>212</td>\n",
       "      <td>35.63</td>\n",
       "      <td>Female</td>\n",
       "      <td>Hispanic or Latino</td>\n",
       "      <td>White</td>\n",
       "      <td>0</td>\n",
       "      <td>0</td>\n",
       "      <td>15:53:00</td>\n",
       "      <td>75</td>\n",
       "      <td>19:33:00</td>\n",
       "    </tr>\n",
       "    <tr>\n",
       "      <th>3</th>\n",
       "      <td>572839301</td>\n",
       "      <td>183</td>\n",
       "      <td>30.51</td>\n",
       "      <td>Female</td>\n",
       "      <td>Not Hispanic or Latino</td>\n",
       "      <td>Black or African American</td>\n",
       "      <td>9</td>\n",
       "      <td>0</td>\n",
       "      <td>15:04:00</td>\n",
       "      <td>67</td>\n",
       "      <td>13:32:00</td>\n",
       "    </tr>\n",
       "    <tr>\n",
       "      <th>4</th>\n",
       "      <td>572839302</td>\n",
       "      <td>174</td>\n",
       "      <td>28.22</td>\n",
       "      <td>Male</td>\n",
       "      <td>Not Hispanic or Latino</td>\n",
       "      <td>Black or African American</td>\n",
       "      <td>0</td>\n",
       "      <td>0</td>\n",
       "      <td>15:43:00</td>\n",
       "      <td>155</td>\n",
       "      <td>16:28:00</td>\n",
       "    </tr>\n",
       "  </tbody>\n",
       "</table>\n",
       "</div>"
      ],
      "text/plain": [
       "      ENC_ID  GEST_AGE_INDAYS  BIRTH_WT_INOUNCES  GENDER  \\\n",
       "0  572839292              168              26.81  Female   \n",
       "1  572839294              180              34.39    Male   \n",
       "2  572839296              212              35.63  Female   \n",
       "3  572839301              183              30.51  Female   \n",
       "4  572839302              174              28.22    Male   \n",
       "\n",
       "                ETHNICITY                       RACE  AGE_AT_ADMIT  ADMIT_DAY  \\\n",
       "0  Not Hispanic or Latino                      White             5          0   \n",
       "1  Not Hispanic or Latino                      White             0          0   \n",
       "2      Hispanic or Latino                      White             0          0   \n",
       "3  Not Hispanic or Latino  Black or African American             9          0   \n",
       "4  Not Hispanic or Latino  Black or African American             0          0   \n",
       "\n",
       "  ADMIT_TIME  DISCH_DAY DISCH_TIME  \n",
       "0   09:34:00        164   16:56:00  \n",
       "1   17:58:00        109   17:04:00  \n",
       "2   15:53:00         75   19:33:00  \n",
       "3   15:04:00         67   13:32:00  \n",
       "4   15:43:00        155   16:28:00  "
      ]
     },
     "execution_count": 4,
     "metadata": {},
     "output_type": "execute_result"
    }
   ],
   "source": [
    "ec_df.head()"
   ]
  },
  {
   "cell_type": "code",
   "execution_count": 6,
   "metadata": {},
   "outputs": [
    {
     "data": {
      "text/html": [
       "<div>\n",
       "<style scoped>\n",
       "    .dataframe tbody tr th:only-of-type {\n",
       "        vertical-align: middle;\n",
       "    }\n",
       "\n",
       "    .dataframe tbody tr th {\n",
       "        vertical-align: top;\n",
       "    }\n",
       "\n",
       "    .dataframe thead th {\n",
       "        text-align: right;\n",
       "    }\n",
       "</style>\n",
       "<table border=\"1\" class=\"dataframe\">\n",
       "  <thead>\n",
       "    <tr style=\"text-align: right;\">\n",
       "      <th></th>\n",
       "      <th>ENC_ID</th>\n",
       "      <th>RECORDED_DAY</th>\n",
       "      <th>RECORDED_TIME</th>\n",
       "      <th>PULSE</th>\n",
       "      <th>NIBP</th>\n",
       "      <th>BP_S</th>\n",
       "      <th>BP_D</th>\n",
       "      <th>RESP</th>\n",
       "      <th>SPO2</th>\n",
       "    </tr>\n",
       "  </thead>\n",
       "  <tbody>\n",
       "    <tr>\n",
       "      <th>0</th>\n",
       "      <td>572839292</td>\n",
       "      <td>0</td>\n",
       "      <td>09:40:00</td>\n",
       "      <td>140.0</td>\n",
       "      <td>NaN</td>\n",
       "      <td>NaN</td>\n",
       "      <td>NaN</td>\n",
       "      <td>NaN</td>\n",
       "      <td>88.0</td>\n",
       "    </tr>\n",
       "    <tr>\n",
       "      <th>1</th>\n",
       "      <td>572839292</td>\n",
       "      <td>0</td>\n",
       "      <td>09:45:00</td>\n",
       "      <td>148.0</td>\n",
       "      <td>NaN</td>\n",
       "      <td>NaN</td>\n",
       "      <td>NaN</td>\n",
       "      <td>NaN</td>\n",
       "      <td>92.0</td>\n",
       "    </tr>\n",
       "    <tr>\n",
       "      <th>2</th>\n",
       "      <td>572839292</td>\n",
       "      <td>0</td>\n",
       "      <td>09:50:00</td>\n",
       "      <td>150.0</td>\n",
       "      <td>NaN</td>\n",
       "      <td>NaN</td>\n",
       "      <td>NaN</td>\n",
       "      <td>NaN</td>\n",
       "      <td>94.0</td>\n",
       "    </tr>\n",
       "    <tr>\n",
       "      <th>3</th>\n",
       "      <td>572839292</td>\n",
       "      <td>0</td>\n",
       "      <td>09:55:00</td>\n",
       "      <td>154.0</td>\n",
       "      <td>30.0</td>\n",
       "      <td>48.0</td>\n",
       "      <td>22.0</td>\n",
       "      <td>NaN</td>\n",
       "      <td>97.0</td>\n",
       "    </tr>\n",
       "    <tr>\n",
       "      <th>4</th>\n",
       "      <td>572839292</td>\n",
       "      <td>0</td>\n",
       "      <td>09:56:00</td>\n",
       "      <td>139.0</td>\n",
       "      <td>32.0</td>\n",
       "      <td>50.0</td>\n",
       "      <td>22.0</td>\n",
       "      <td>NaN</td>\n",
       "      <td>91.0</td>\n",
       "    </tr>\n",
       "  </tbody>\n",
       "</table>\n",
       "</div>"
      ],
      "text/plain": [
       "      ENC_ID  RECORDED_DAY RECORDED_TIME  PULSE  NIBP  BP_S  BP_D  RESP  SPO2\n",
       "0  572839292             0      09:40:00  140.0   NaN   NaN   NaN   NaN  88.0\n",
       "1  572839292             0      09:45:00  148.0   NaN   NaN   NaN   NaN  92.0\n",
       "2  572839292             0      09:50:00  150.0   NaN   NaN   NaN   NaN  94.0\n",
       "3  572839292             0      09:55:00  154.0  30.0  48.0  22.0   NaN  97.0\n",
       "4  572839292             0      09:56:00  139.0  32.0  50.0  22.0   NaN  91.0"
      ]
     },
     "execution_count": 6,
     "metadata": {},
     "output_type": "execute_result"
    }
   ],
   "source": [
    "vitals_df.head()"
   ]
  },
  {
   "cell_type": "markdown",
   "metadata": {},
   "source": [
    "## general summary stats"
   ]
  },
  {
   "cell_type": "markdown",
   "metadata": {},
   "source": [
    "### patient info"
   ]
  },
  {
   "cell_type": "code",
   "execution_count": 11,
   "metadata": {},
   "outputs": [
    {
     "data": {
      "text/plain": [
       "Index(['ENC_ID', 'GEST_AGE_INDAYS', 'BIRTH_WT_INOUNCES', 'GENDER', 'ETHNICITY',\n",
       "       'RACE', 'AGE_AT_ADMIT', 'ADMIT_DAY', 'ADMIT_TIME', 'DISCH_DAY',\n",
       "       'DISCH_TIME'],\n",
       "      dtype='object')"
      ]
     },
     "execution_count": 11,
     "metadata": {},
     "output_type": "execute_result"
    }
   ],
   "source": [
    "ec_df.columns"
   ]
  },
  {
   "cell_type": "code",
   "execution_count": 28,
   "metadata": {},
   "outputs": [
    {
     "data": {
      "text/plain": [
       "count    923.000000\n",
       "mean      28.774803\n",
       "std        2.875804\n",
       "min       22.000000\n",
       "25%       26.428571\n",
       "50%       29.285714\n",
       "75%       31.285714\n",
       "max       32.857143\n",
       "Name: GEST_AGE_INDAYS, dtype: float64"
      ]
     },
     "execution_count": 28,
     "metadata": {},
     "output_type": "execute_result"
    }
   ],
   "source": [
    "(ec_df['GEST_AGE_INDAYS']/7).describe()"
   ]
  },
  {
   "cell_type": "code",
   "execution_count": 46,
   "metadata": {},
   "outputs": [
    {
     "data": {
      "text/plain": [
       "Text(0.5, 1.0, 'distribution of patient race')"
      ]
     },
     "execution_count": 46,
     "metadata": {},
     "output_type": "execute_result"
    },
    {
     "data": {
      "image/png": "[encoded data removed]",
      "text/plain": [
       "<Figure size 432x288 with 1 Axes>"
      ]
     },
     "metadata": {
      "needs_background": "light"
     },
     "output_type": "display_data"
    }
   ],
   "source": [
    "sns.barplot(data=ec_df.groupby('RACE').count().reset_index(), y='RACE', x='ENC_ID')\n",
    "plt.ylabel('')\n",
    "plt.xlabel('number of patients')\n",
    "plt.title('distribution of patient race')"
   ]
  },
  {
   "cell_type": "code",
   "execution_count": 118,
   "metadata": {},
   "outputs": [
    {
     "data": {
      "text/plain": [
       "Text(0.5, 1.0, 'distribution of patient race')"
      ]
     },
     "execution_count": 118,
     "metadata": {},
     "output_type": "execute_result"
    },
    {
     "data": {
      "image/png": "[encoded data removed]",
      "text/plain": [
       "<Figure size 432x288 with 1 Axes>"
      ]
     },
     "metadata": {
      "needs_background": "light"
     },
     "output_type": "display_data"
    }
   ],
   "source": [
    "sns.barplot(data=ec_df.groupby('GENDER').count().reset_index(), y='GENDER', x='ENC_ID')\n",
    "plt.ylabel('')\n",
    "plt.xlabel('number of patients')\n",
    "plt.title('distribution of patient race')"
   ]
  },
  {
   "cell_type": "code",
   "execution_count": 58,
   "metadata": {},
   "outputs": [
    {
     "data": {
      "text/plain": [
       "Index(['ENC_ID', 'DEPT_GROUP', 'DEPT_LOCATION', 'IN_DAY', 'IN_TIME', 'OUT_DAY',\n",
       "       'OUT_TIME'],\n",
       "      dtype='object')"
      ]
     },
     "execution_count": 58,
     "metadata": {},
     "output_type": "execute_result"
    }
   ],
   "source": [
    "adt_df.columns"
   ]
  },
  {
   "cell_type": "code",
   "execution_count": 59,
   "metadata": {},
   "outputs": [
    {
     "data": {
      "text/plain": [
       "Index(['ENC_ID', 'RECORDED_DAY', 'RECORDED_TIME', 'PULSE', 'NIBP', 'BP_S',\n",
       "       'BP_D', 'RESP', 'SPO2'],\n",
       "      dtype='object')"
      ]
     },
     "execution_count": 59,
     "metadata": {},
     "output_type": "execute_result"
    }
   ],
   "source": [
    "vitals_df.columns"
   ]
  },
  {
   "cell_type": "code",
   "execution_count": 117,
   "metadata": {},
   "outputs": [
    {
     "data": {
      "text/html": [
       "<div>\n",
       "<style scoped>\n",
       "    .dataframe tbody tr th:only-of-type {\n",
       "        vertical-align: middle;\n",
       "    }\n",
       "\n",
       "    .dataframe tbody tr th {\n",
       "        vertical-align: top;\n",
       "    }\n",
       "\n",
       "    .dataframe thead th {\n",
       "        text-align: right;\n",
       "    }\n",
       "</style>\n",
       "<table border=\"1\" class=\"dataframe\">\n",
       "  <thead>\n",
       "    <tr style=\"text-align: right;\">\n",
       "      <th></th>\n",
       "      <th>ENC_ID</th>\n",
       "      <th>RECORDED_DAY</th>\n",
       "      <th>PULSE</th>\n",
       "      <th>NIBP</th>\n",
       "      <th>BP_S</th>\n",
       "      <th>BP_D</th>\n",
       "      <th>RESP</th>\n",
       "      <th>SPO2</th>\n",
       "    </tr>\n",
       "  </thead>\n",
       "  <tbody>\n",
       "    <tr>\n",
       "      <th>0</th>\n",
       "      <td>572839292</td>\n",
       "      <td>0</td>\n",
       "      <td>13.156057</td>\n",
       "      <td>1.527525</td>\n",
       "      <td>3.055050</td>\n",
       "      <td>3.464102</td>\n",
       "      <td>NaN</td>\n",
       "      <td>2.475815</td>\n",
       "    </tr>\n",
       "    <tr>\n",
       "      <th>1</th>\n",
       "      <td>572839292</td>\n",
       "      <td>1</td>\n",
       "      <td>12.965738</td>\n",
       "      <td>NaN</td>\n",
       "      <td>NaN</td>\n",
       "      <td>NaN</td>\n",
       "      <td>NaN</td>\n",
       "      <td>4.931937</td>\n",
       "    </tr>\n",
       "    <tr>\n",
       "      <th>2</th>\n",
       "      <td>572839292</td>\n",
       "      <td>2</td>\n",
       "      <td>9.626007</td>\n",
       "      <td>NaN</td>\n",
       "      <td>NaN</td>\n",
       "      <td>NaN</td>\n",
       "      <td>NaN</td>\n",
       "      <td>3.807266</td>\n",
       "    </tr>\n",
       "    <tr>\n",
       "      <th>3</th>\n",
       "      <td>572839292</td>\n",
       "      <td>3</td>\n",
       "      <td>9.738837</td>\n",
       "      <td>NaN</td>\n",
       "      <td>NaN</td>\n",
       "      <td>NaN</td>\n",
       "      <td>NaN</td>\n",
       "      <td>3.102787</td>\n",
       "    </tr>\n",
       "    <tr>\n",
       "      <th>4</th>\n",
       "      <td>572839292</td>\n",
       "      <td>4</td>\n",
       "      <td>7.568047</td>\n",
       "      <td>0.707107</td>\n",
       "      <td>1.414214</td>\n",
       "      <td>1.414214</td>\n",
       "      <td>4.09878</td>\n",
       "      <td>3.350579</td>\n",
       "    </tr>\n",
       "  </tbody>\n",
       "</table>\n",
       "</div>"
      ],
      "text/plain": [
       "      ENC_ID  RECORDED_DAY      PULSE      NIBP      BP_S      BP_D     RESP  \\\n",
       "0  572839292             0  13.156057  1.527525  3.055050  3.464102      NaN   \n",
       "1  572839292             1  12.965738       NaN       NaN       NaN      NaN   \n",
       "2  572839292             2   9.626007       NaN       NaN       NaN      NaN   \n",
       "3  572839292             3   9.738837       NaN       NaN       NaN      NaN   \n",
       "4  572839292             4   7.568047  0.707107  1.414214  1.414214  4.09878   \n",
       "\n",
       "       SPO2  \n",
       "0  2.475815  \n",
       "1  4.931937  \n",
       "2  3.807266  \n",
       "3  3.102787  \n",
       "4  3.350579  "
      ]
     },
     "execution_count": 117,
     "metadata": {},
     "output_type": "execute_result"
    }
   ],
   "source": [
    "# \n",
    "avg_pd_df = vitals_df.groupby(['ENC_ID', 'RECORDED_DAY']).std().reset_index()\n",
    "avg_pd_df.head()"
   ]
  },
  {
   "cell_type": "code",
   "execution_count": 65,
   "metadata": {},
   "outputs": [
    {
     "data": {
      "text/html": [
       "<div>\n",
       "<style scoped>\n",
       "    .dataframe tbody tr th:only-of-type {\n",
       "        vertical-align: middle;\n",
       "    }\n",
       "\n",
       "    .dataframe tbody tr th {\n",
       "        vertical-align: top;\n",
       "    }\n",
       "\n",
       "    .dataframe thead th {\n",
       "        text-align: right;\n",
       "    }\n",
       "</style>\n",
       "<table border=\"1\" class=\"dataframe\">\n",
       "  <thead>\n",
       "    <tr style=\"text-align: right;\">\n",
       "      <th></th>\n",
       "      <th>ENC_ID</th>\n",
       "      <th>RECORDED_DAY</th>\n",
       "      <th>PULSE</th>\n",
       "      <th>NIBP</th>\n",
       "      <th>BP_S</th>\n",
       "      <th>BP_D</th>\n",
       "      <th>RESP</th>\n",
       "      <th>SPO2</th>\n",
       "    </tr>\n",
       "  </thead>\n",
       "  <tbody>\n",
       "    <tr>\n",
       "      <th>0</th>\n",
       "      <td>572839292</td>\n",
       "      <td>0</td>\n",
       "      <td>152.491525</td>\n",
       "      <td>31.666667</td>\n",
       "      <td>47.333333</td>\n",
       "      <td>24.0</td>\n",
       "      <td>NaN</td>\n",
       "      <td>93.850000</td>\n",
       "    </tr>\n",
       "    <tr>\n",
       "      <th>1</th>\n",
       "      <td>572839292</td>\n",
       "      <td>1</td>\n",
       "      <td>156.375000</td>\n",
       "      <td>35.000000</td>\n",
       "      <td>45.000000</td>\n",
       "      <td>30.0</td>\n",
       "      <td>NaN</td>\n",
       "      <td>92.517857</td>\n",
       "    </tr>\n",
       "    <tr>\n",
       "      <th>2</th>\n",
       "      <td>572839292</td>\n",
       "      <td>2</td>\n",
       "      <td>153.164948</td>\n",
       "      <td>NaN</td>\n",
       "      <td>NaN</td>\n",
       "      <td>NaN</td>\n",
       "      <td>NaN</td>\n",
       "      <td>92.762887</td>\n",
       "    </tr>\n",
       "    <tr>\n",
       "      <th>3</th>\n",
       "      <td>572839292</td>\n",
       "      <td>3</td>\n",
       "      <td>162.020408</td>\n",
       "      <td>20.000000</td>\n",
       "      <td>38.000000</td>\n",
       "      <td>11.0</td>\n",
       "      <td>NaN</td>\n",
       "      <td>95.581633</td>\n",
       "    </tr>\n",
       "    <tr>\n",
       "      <th>4</th>\n",
       "      <td>572839292</td>\n",
       "      <td>4</td>\n",
       "      <td>169.840426</td>\n",
       "      <td>24.500000</td>\n",
       "      <td>33.000000</td>\n",
       "      <td>19.0</td>\n",
       "      <td>43.0</td>\n",
       "      <td>93.308511</td>\n",
       "    </tr>\n",
       "  </tbody>\n",
       "</table>\n",
       "</div>"
      ],
      "text/plain": [
       "      ENC_ID  RECORDED_DAY       PULSE       NIBP       BP_S  BP_D  RESP  \\\n",
       "0  572839292             0  152.491525  31.666667  47.333333  24.0   NaN   \n",
       "1  572839292             1  156.375000  35.000000  45.000000  30.0   NaN   \n",
       "2  572839292             2  153.164948        NaN        NaN   NaN   NaN   \n",
       "3  572839292             3  162.020408  20.000000  38.000000  11.0   NaN   \n",
       "4  572839292             4  169.840426  24.500000  33.000000  19.0  43.0   \n",
       "\n",
       "        SPO2  \n",
       "0  93.850000  \n",
       "1  92.517857  \n",
       "2  92.762887  \n",
       "3  95.581633  \n",
       "4  93.308511  "
      ]
     },
     "execution_count": 65,
     "metadata": {},
     "output_type": "execute_result"
    }
   ],
   "source": [
    "# averaging over patient per admit_day to then look at pulse, nibp, bp_s, bp_d, resp, spo2\n",
    "avg_pd_df = vitals_df.groupby(['ENC_ID', 'RECORDED_DAY']).mean().reset_index()\n",
    "avg_pd_df.head()"
   ]
  },
  {
   "cell_type": "code",
   "execution_count": 91,
   "metadata": {},
   "outputs": [
    {
     "data": {
      "text/plain": [
       "Text(0, 0.5, 'number of patients')"
      ]
     },
     "execution_count": 91,
     "metadata": {},
     "output_type": "execute_result"
    },
    {
     "data": {
      "image/png": "[encoded data removed]",
      "text/plain": [
       "<Figure size 432x288 with 1 Axes>"
      ]
     },
     "metadata": {
      "needs_background": "light"
     },
     "output_type": "display_data"
    }
   ],
   "source": [
    "sns.scatterplot(data=avg_pd_df.groupby('RECORDED_DAY').count().reset_index(), x='RECORDED_DAY', y='ENC_ID')\n",
    "plt.title('number of patients whose vitals were recorded per day')\n",
    "plt.xlabel('recorded dsb')\n",
    "plt.ylabel('number of patients')"
   ]
  },
  {
   "cell_type": "code",
   "execution_count": 80,
   "metadata": {},
   "outputs": [
    {
     "data": {
      "text/plain": [
       "Text(0, 0.5, 'number of patients')"
      ]
     },
     "execution_count": 80,
     "metadata": {},
     "output_type": "execute_result"
    },
    {
     "data": {
      "image/png": "[encoded data removed]",
      "text/plain": [
       "<Figure size 432x288 with 1 Axes>"
      ]
     },
     "metadata": {
      "needs_background": "light"
     },
     "output_type": "display_data"
    }
   ],
   "source": [
    "sns.histplot(vitals_df['RECORDED_DAY'])\n",
    "plt.title('distribution of recorded days since birth over all patients')\n",
    "plt.xlabel('recorded dsb')\n",
    "plt.ylabel('number of patients')"
   ]
  },
  {
   "cell_type": "code",
   "execution_count": 81,
   "metadata": {},
   "outputs": [
    {
     "data": {
      "text/plain": [
       "count    2.983739e+06\n",
       "mean     6.136495e+01\n",
       "std      6.744903e+01\n",
       "min      0.000000e+00\n",
       "25%      1.800000e+01\n",
       "50%      4.200000e+01\n",
       "75%      8.100000e+01\n",
       "max      7.520000e+02\n",
       "Name: RECORDED_DAY, dtype: float64"
      ]
     },
     "execution_count": 81,
     "metadata": {},
     "output_type": "execute_result"
    }
   ],
   "source": [
    "vitals_df['RECORDED_DAY'].describe()"
   ]
  },
  {
   "cell_type": "code",
   "execution_count": 127,
   "metadata": {},
   "outputs": [
    {
     "data": {
      "text/plain": [
       "229"
      ]
     },
     "execution_count": 127,
     "metadata": {},
     "output_type": "execute_result"
    }
   ],
   "source": [
    "temp = vitals_df.groupby(['ENC_ID', 'RECORDED_DAY']).count().reset_index()\n",
    "long_stay_ids = list(set(temp.loc[temp['RECORDED_DAY'] > 110]['ENC_ID']))\n",
    "len(list(set(temp.loc[temp['RECORDED_DAY'] > 110]['ENC_ID'])))"
   ]
  },
  {
   "cell_type": "code",
   "execution_count": 126,
   "metadata": {},
   "outputs": [
    {
     "data": {
      "text/plain": [
       "0.24810400866738894"
      ]
     },
     "execution_count": 126,
     "metadata": {},
     "output_type": "execute_result"
    }
   ],
   "source": [
    "229/923"
   ]
  },
  {
   "cell_type": "code",
   "execution_count": 133,
   "metadata": {},
   "outputs": [
    {
     "data": {
      "text/plain": [
       "Text(0.5, 0, 'gestational age (wks)')"
      ]
     },
     "execution_count": 133,
     "metadata": {},
     "output_type": "execute_result"
    },
    {
     "data": {
      "image/png": "[encoded data removed]",
      "text/plain": [
       "<Figure size 432x288 with 1 Axes>"
      ]
     },
     "metadata": {
      "needs_background": "light"
     },
     "output_type": "display_data"
    }
   ],
   "source": [
    "sns.histplot(ec_df.loc[ec_df['ENC_ID'].isin(long_stay_ids)]['GEST_AGE_INDAYS']/7)\n",
    "plt.xlabel('gestational age (wks)')"
   ]
  },
  {
   "cell_type": "code",
   "execution_count": 115,
   "metadata": {},
   "outputs": [
    {
     "data": {
      "text/plain": [
       "Text(0, 0.5, 'blood pressure (diastole)')"
      ]
     },
     "execution_count": 115,
     "metadata": {},
     "output_type": "execute_result"
    },
    {
     "data": {
      "image/png": "[encoded data removed]",
      "text/plain": [
       "<Figure size 432x288 with 1 Axes>"
      ]
     },
     "metadata": {
      "needs_background": "light"
     },
     "output_type": "display_data"
    }
   ],
   "source": [
    "sns.scatterplot(data=avg_pd_df, x='RECORDED_DAY', y='BP_D')\n",
    "plt.title('scatterplot of average diastolic blood pressure per day per patient')\n",
    "plt.xlabel('dsb')\n",
    "plt.ylabel('blood pressure (diastole)')"
   ]
  },
  {
   "cell_type": "code",
   "execution_count": 114,
   "metadata": {},
   "outputs": [
    {
     "data": {
      "text/plain": [
       "Text(0, 0.5, 'blood pressure (diastole)')"
      ]
     },
     "execution_count": 114,
     "metadata": {},
     "output_type": "execute_result"
    },
    {
     "data": {
      "image/png": "[encoded data removed]",
      "text/plain": [
       "<Figure size 432x288 with 1 Axes>"
      ]
     },
     "metadata": {
      "needs_background": "light"
     },
     "output_type": "display_data"
    }
   ],
   "source": [
    "sns.scatterplot(data=avg_pd_df.loc[avg_pd_df['RECORDED_DAY'] < 100], x='RECORDED_DAY', y='BP_D')\n",
    "plt.title('scatterplot of average diastolic blood pressure per day per patient')\n",
    "plt.xlabel('dsb')\n",
    "plt.ylabel('blood pressure (diastole)')"
   ]
  },
  {
   "cell_type": "code",
   "execution_count": 103,
   "metadata": {},
   "outputs": [
    {
     "data": {
      "text/plain": [
       "Text(0, 0.5, 'respiratory rate (breaths/min)')"
      ]
     },
     "execution_count": 103,
     "metadata": {},
     "output_type": "execute_result"
    },
    {
     "data": {
      "image/png": "[encoded data removed]",
      "text/plain": [
       "<Figure size 432x288 with 1 Axes>"
      ]
     },
     "metadata": {
      "needs_background": "light"
     },
     "output_type": "display_data"
    }
   ],
   "source": [
    "sns.lineplot(data=avg_pd_df, x='RECORDED_DAY', y='RESP')\n",
    "plt.title('lineplot of average respiratory rate per day per patient')\n",
    "plt.xlabel('dsb')\n",
    "plt.ylabel('respiratory rate (breaths/min)')"
   ]
  },
  {
   "cell_type": "code",
   "execution_count": 104,
   "metadata": {},
   "outputs": [
    {
     "data": {
      "text/plain": [
       "Text(0, 0.5, 'respiratory rate (breaths/min)')"
      ]
     },
     "execution_count": 104,
     "metadata": {},
     "output_type": "execute_result"
    },
    {
     "data": {
      "image/png": "[encoded data removed]",
      "text/plain": [
       "<Figure size 432x288 with 1 Axes>"
      ]
     },
     "metadata": {
      "needs_background": "light"
     },
     "output_type": "display_data"
    }
   ],
   "source": [
    "sns.lineplot(data=avg_pd_df.loc[avg_pd_df['RECORDED_DAY'] < 100], x='RECORDED_DAY', y='RESP')\n",
    "plt.title('lineplot of average respiratory rate per day per patient')\n",
    "plt.xlabel('dsb')\n",
    "plt.ylabel('respiratory rate (breaths/min)')"
   ]
  },
  {
   "cell_type": "code",
   "execution_count": 60,
   "metadata": {},
   "outputs": [
    {
     "data": {
      "text/html": [
       "<div>\n",
       "<style scoped>\n",
       "    .dataframe tbody tr th:only-of-type {\n",
       "        vertical-align: middle;\n",
       "    }\n",
       "\n",
       "    .dataframe tbody tr th {\n",
       "        vertical-align: top;\n",
       "    }\n",
       "\n",
       "    .dataframe thead th {\n",
       "        text-align: right;\n",
       "    }\n",
       "</style>\n",
       "<table border=\"1\" class=\"dataframe\">\n",
       "  <thead>\n",
       "    <tr style=\"text-align: right;\">\n",
       "      <th></th>\n",
       "      <th>ENC_ID</th>\n",
       "      <th>RECORDED_DAY</th>\n",
       "      <th>RECORDED_TIME</th>\n",
       "      <th>PULSE</th>\n",
       "      <th>NIBP</th>\n",
       "      <th>BP_S</th>\n",
       "      <th>BP_D</th>\n",
       "      <th>RESP</th>\n",
       "      <th>SPO2</th>\n",
       "    </tr>\n",
       "  </thead>\n",
       "  <tbody>\n",
       "    <tr>\n",
       "      <th>0</th>\n",
       "      <td>572839292</td>\n",
       "      <td>0</td>\n",
       "      <td>09:40:00</td>\n",
       "      <td>140.0</td>\n",
       "      <td>NaN</td>\n",
       "      <td>NaN</td>\n",
       "      <td>NaN</td>\n",
       "      <td>NaN</td>\n",
       "      <td>88.0</td>\n",
       "    </tr>\n",
       "    <tr>\n",
       "      <th>1</th>\n",
       "      <td>572839292</td>\n",
       "      <td>0</td>\n",
       "      <td>09:45:00</td>\n",
       "      <td>148.0</td>\n",
       "      <td>NaN</td>\n",
       "      <td>NaN</td>\n",
       "      <td>NaN</td>\n",
       "      <td>NaN</td>\n",
       "      <td>92.0</td>\n",
       "    </tr>\n",
       "    <tr>\n",
       "      <th>2</th>\n",
       "      <td>572839292</td>\n",
       "      <td>0</td>\n",
       "      <td>09:50:00</td>\n",
       "      <td>150.0</td>\n",
       "      <td>NaN</td>\n",
       "      <td>NaN</td>\n",
       "      <td>NaN</td>\n",
       "      <td>NaN</td>\n",
       "      <td>94.0</td>\n",
       "    </tr>\n",
       "    <tr>\n",
       "      <th>3</th>\n",
       "      <td>572839292</td>\n",
       "      <td>0</td>\n",
       "      <td>09:55:00</td>\n",
       "      <td>154.0</td>\n",
       "      <td>30.0</td>\n",
       "      <td>48.0</td>\n",
       "      <td>22.0</td>\n",
       "      <td>NaN</td>\n",
       "      <td>97.0</td>\n",
       "    </tr>\n",
       "    <tr>\n",
       "      <th>4</th>\n",
       "      <td>572839292</td>\n",
       "      <td>0</td>\n",
       "      <td>09:56:00</td>\n",
       "      <td>139.0</td>\n",
       "      <td>32.0</td>\n",
       "      <td>50.0</td>\n",
       "      <td>22.0</td>\n",
       "      <td>NaN</td>\n",
       "      <td>91.0</td>\n",
       "    </tr>\n",
       "    <tr>\n",
       "      <th>...</th>\n",
       "      <td>...</td>\n",
       "      <td>...</td>\n",
       "      <td>...</td>\n",
       "      <td>...</td>\n",
       "      <td>...</td>\n",
       "      <td>...</td>\n",
       "      <td>...</td>\n",
       "      <td>...</td>\n",
       "      <td>...</td>\n",
       "    </tr>\n",
       "    <tr>\n",
       "      <th>2983734</th>\n",
       "      <td>572840984</td>\n",
       "      <td>26</td>\n",
       "      <td>07:00:00</td>\n",
       "      <td>182.0</td>\n",
       "      <td>NaN</td>\n",
       "      <td>NaN</td>\n",
       "      <td>NaN</td>\n",
       "      <td>NaN</td>\n",
       "      <td>96.0</td>\n",
       "    </tr>\n",
       "    <tr>\n",
       "      <th>2983735</th>\n",
       "      <td>572840984</td>\n",
       "      <td>26</td>\n",
       "      <td>08:00:00</td>\n",
       "      <td>181.0</td>\n",
       "      <td>61.0</td>\n",
       "      <td>79.0</td>\n",
       "      <td>50.0</td>\n",
       "      <td>62.0</td>\n",
       "      <td>100.0</td>\n",
       "    </tr>\n",
       "    <tr>\n",
       "      <th>2983736</th>\n",
       "      <td>572840984</td>\n",
       "      <td>26</td>\n",
       "      <td>09:00:00</td>\n",
       "      <td>167.0</td>\n",
       "      <td>NaN</td>\n",
       "      <td>NaN</td>\n",
       "      <td>NaN</td>\n",
       "      <td>NaN</td>\n",
       "      <td>99.0</td>\n",
       "    </tr>\n",
       "    <tr>\n",
       "      <th>2983737</th>\n",
       "      <td>572840984</td>\n",
       "      <td>26</td>\n",
       "      <td>10:00:00</td>\n",
       "      <td>164.0</td>\n",
       "      <td>NaN</td>\n",
       "      <td>NaN</td>\n",
       "      <td>NaN</td>\n",
       "      <td>NaN</td>\n",
       "      <td>100.0</td>\n",
       "    </tr>\n",
       "    <tr>\n",
       "      <th>2983738</th>\n",
       "      <td>572840984</td>\n",
       "      <td>26</td>\n",
       "      <td>11:00:00</td>\n",
       "      <td>172.0</td>\n",
       "      <td>NaN</td>\n",
       "      <td>NaN</td>\n",
       "      <td>NaN</td>\n",
       "      <td>42.0</td>\n",
       "      <td>100.0</td>\n",
       "    </tr>\n",
       "  </tbody>\n",
       "</table>\n",
       "<p>2983739 rows × 9 columns</p>\n",
       "</div>"
      ],
      "text/plain": [
       "            ENC_ID  RECORDED_DAY RECORDED_TIME  PULSE  NIBP  BP_S  BP_D  RESP  \\\n",
       "0        572839292             0      09:40:00  140.0   NaN   NaN   NaN   NaN   \n",
       "1        572839292             0      09:45:00  148.0   NaN   NaN   NaN   NaN   \n",
       "2        572839292             0      09:50:00  150.0   NaN   NaN   NaN   NaN   \n",
       "3        572839292             0      09:55:00  154.0  30.0  48.0  22.0   NaN   \n",
       "4        572839292             0      09:56:00  139.0  32.0  50.0  22.0   NaN   \n",
       "...            ...           ...           ...    ...   ...   ...   ...   ...   \n",
       "2983734  572840984            26      07:00:00  182.0   NaN   NaN   NaN   NaN   \n",
       "2983735  572840984            26      08:00:00  181.0  61.0  79.0  50.0  62.0   \n",
       "2983736  572840984            26      09:00:00  167.0   NaN   NaN   NaN   NaN   \n",
       "2983737  572840984            26      10:00:00  164.0   NaN   NaN   NaN   NaN   \n",
       "2983738  572840984            26      11:00:00  172.0   NaN   NaN   NaN  42.0   \n",
       "\n",
       "          SPO2  \n",
       "0         88.0  \n",
       "1         92.0  \n",
       "2         94.0  \n",
       "3         97.0  \n",
       "4         91.0  \n",
       "...        ...  \n",
       "2983734   96.0  \n",
       "2983735  100.0  \n",
       "2983736   99.0  \n",
       "2983737  100.0  \n",
       "2983738  100.0  \n",
       "\n",
       "[2983739 rows x 9 columns]"
      ]
     },
     "execution_count": 60,
     "metadata": {},
     "output_type": "execute_result"
    }
   ],
   "source": [
    "vitals_df"
   ]
  },
  {
   "cell_type": "code",
   "execution_count": 23,
   "metadata": {},
   "outputs": [],
   "source": [
    "# plot some basic distributions"
   ]
  },
  {
   "cell_type": "code",
   "execution_count": 26,
   "metadata": {},
   "outputs": [
    {
     "data": {
      "text/plain": [
       "Text(0.5, 1.0, 'distribution of gestational age')"
      ]
     },
     "execution_count": 26,
     "metadata": {},
     "output_type": "execute_result"
    },
    {
     "data": {
      "image/png": "[encoded data removed]",
      "text/plain": [
       "<Figure size 432x288 with 1 Axes>"
      ]
     },
     "metadata": {
      "needs_background": "light"
     },
     "output_type": "display_data"
    }
   ],
   "source": [
    "sns.histplot(data=ec_df, x='GEST_AGE_INWEEKS')\n",
    "plt.title(\"distribution of gestational age\")"
   ]
  },
  {
   "cell_type": "code",
   "execution_count": 31,
   "metadata": {},
   "outputs": [
    {
     "data": {
      "text/plain": [
       "Text(0.5, 1.0, 'distribution of birth weight')"
      ]
     },
     "execution_count": 31,
     "metadata": {},
     "output_type": "execute_result"
    },
    {
     "data": {
      "image/png": "[encoded data removed]",
      "text/plain": [
       "<Figure size 432x288 with 1 Axes>"
      ]
     },
     "metadata": {
      "needs_background": "light"
     },
     "output_type": "display_data"
    }
   ],
   "source": [
    "sns.histplot(data=ec_df, x='BIRTH_WT_INOUNCES')\n",
    "plt.title(\"distribution of birth weight\")"
   ]
  },
  {
   "cell_type": "code",
   "execution_count": 28,
   "metadata": {},
   "outputs": [
    {
     "data": {
      "text/plain": [
       "White                               546\n",
       "Black or African American           220\n",
       "Multiple race                        83\n",
       "Unknown                              45\n",
       "Asian                                20\n",
       "American Indian or Alaska Native      5\n",
       "No Information                        3\n",
       "Refuse to answer                      1\n",
       "Name: RACE, dtype: int64"
      ]
     },
     "execution_count": 28,
     "metadata": {},
     "output_type": "execute_result"
    }
   ],
   "source": [
    "ec_df['RACE'].value_counts()"
   ]
  },
  {
   "cell_type": "code",
   "execution_count": 29,
   "metadata": {},
   "outputs": [
    {
     "data": {
      "text/plain": [
       "Male      529\n",
       "Female    394\n",
       "Name: GENDER, dtype: int64"
      ]
     },
     "execution_count": 29,
     "metadata": {},
     "output_type": "execute_result"
    }
   ],
   "source": [
    "ec_df['GENDER'].value_counts()"
   ]
  },
  {
   "cell_type": "code",
   "execution_count": 33,
   "metadata": {},
   "outputs": [
    {
     "data": {
      "text/html": [
       "<div>\n",
       "<style scoped>\n",
       "    .dataframe tbody tr th:only-of-type {\n",
       "        vertical-align: middle;\n",
       "    }\n",
       "\n",
       "    .dataframe tbody tr th {\n",
       "        vertical-align: top;\n",
       "    }\n",
       "\n",
       "    .dataframe thead th {\n",
       "        text-align: right;\n",
       "    }\n",
       "</style>\n",
       "<table border=\"1\" class=\"dataframe\">\n",
       "  <thead>\n",
       "    <tr style=\"text-align: right;\">\n",
       "      <th></th>\n",
       "      <th>ENC_ID</th>\n",
       "      <th>RECORDED_DAY</th>\n",
       "      <th>RECORDED_TIME</th>\n",
       "      <th>PULSE</th>\n",
       "      <th>NIBP</th>\n",
       "      <th>BP_S</th>\n",
       "      <th>BP_D</th>\n",
       "      <th>RESP</th>\n",
       "      <th>SPO2</th>\n",
       "    </tr>\n",
       "  </thead>\n",
       "  <tbody>\n",
       "    <tr>\n",
       "      <th>0</th>\n",
       "      <td>572839292</td>\n",
       "      <td>0</td>\n",
       "      <td>09:40:00</td>\n",
       "      <td>140.0</td>\n",
       "      <td>NaN</td>\n",
       "      <td>NaN</td>\n",
       "      <td>NaN</td>\n",
       "      <td>NaN</td>\n",
       "      <td>88.0</td>\n",
       "    </tr>\n",
       "    <tr>\n",
       "      <th>1</th>\n",
       "      <td>572839292</td>\n",
       "      <td>0</td>\n",
       "      <td>09:45:00</td>\n",
       "      <td>148.0</td>\n",
       "      <td>NaN</td>\n",
       "      <td>NaN</td>\n",
       "      <td>NaN</td>\n",
       "      <td>NaN</td>\n",
       "      <td>92.0</td>\n",
       "    </tr>\n",
       "    <tr>\n",
       "      <th>2</th>\n",
       "      <td>572839292</td>\n",
       "      <td>0</td>\n",
       "      <td>09:50:00</td>\n",
       "      <td>150.0</td>\n",
       "      <td>NaN</td>\n",
       "      <td>NaN</td>\n",
       "      <td>NaN</td>\n",
       "      <td>NaN</td>\n",
       "      <td>94.0</td>\n",
       "    </tr>\n",
       "    <tr>\n",
       "      <th>3</th>\n",
       "      <td>572839292</td>\n",
       "      <td>0</td>\n",
       "      <td>09:55:00</td>\n",
       "      <td>154.0</td>\n",
       "      <td>30.0</td>\n",
       "      <td>48.0</td>\n",
       "      <td>22.0</td>\n",
       "      <td>NaN</td>\n",
       "      <td>97.0</td>\n",
       "    </tr>\n",
       "    <tr>\n",
       "      <th>4</th>\n",
       "      <td>572839292</td>\n",
       "      <td>0</td>\n",
       "      <td>09:56:00</td>\n",
       "      <td>139.0</td>\n",
       "      <td>32.0</td>\n",
       "      <td>50.0</td>\n",
       "      <td>22.0</td>\n",
       "      <td>NaN</td>\n",
       "      <td>91.0</td>\n",
       "    </tr>\n",
       "    <tr>\n",
       "      <th>...</th>\n",
       "      <td>...</td>\n",
       "      <td>...</td>\n",
       "      <td>...</td>\n",
       "      <td>...</td>\n",
       "      <td>...</td>\n",
       "      <td>...</td>\n",
       "      <td>...</td>\n",
       "      <td>...</td>\n",
       "      <td>...</td>\n",
       "    </tr>\n",
       "    <tr>\n",
       "      <th>2983734</th>\n",
       "      <td>572840984</td>\n",
       "      <td>26</td>\n",
       "      <td>07:00:00</td>\n",
       "      <td>182.0</td>\n",
       "      <td>NaN</td>\n",
       "      <td>NaN</td>\n",
       "      <td>NaN</td>\n",
       "      <td>NaN</td>\n",
       "      <td>96.0</td>\n",
       "    </tr>\n",
       "    <tr>\n",
       "      <th>2983735</th>\n",
       "      <td>572840984</td>\n",
       "      <td>26</td>\n",
       "      <td>08:00:00</td>\n",
       "      <td>181.0</td>\n",
       "      <td>61.0</td>\n",
       "      <td>79.0</td>\n",
       "      <td>50.0</td>\n",
       "      <td>62.0</td>\n",
       "      <td>100.0</td>\n",
       "    </tr>\n",
       "    <tr>\n",
       "      <th>2983736</th>\n",
       "      <td>572840984</td>\n",
       "      <td>26</td>\n",
       "      <td>09:00:00</td>\n",
       "      <td>167.0</td>\n",
       "      <td>NaN</td>\n",
       "      <td>NaN</td>\n",
       "      <td>NaN</td>\n",
       "      <td>NaN</td>\n",
       "      <td>99.0</td>\n",
       "    </tr>\n",
       "    <tr>\n",
       "      <th>2983737</th>\n",
       "      <td>572840984</td>\n",
       "      <td>26</td>\n",
       "      <td>10:00:00</td>\n",
       "      <td>164.0</td>\n",
       "      <td>NaN</td>\n",
       "      <td>NaN</td>\n",
       "      <td>NaN</td>\n",
       "      <td>NaN</td>\n",
       "      <td>100.0</td>\n",
       "    </tr>\n",
       "    <tr>\n",
       "      <th>2983738</th>\n",
       "      <td>572840984</td>\n",
       "      <td>26</td>\n",
       "      <td>11:00:00</td>\n",
       "      <td>172.0</td>\n",
       "      <td>NaN</td>\n",
       "      <td>NaN</td>\n",
       "      <td>NaN</td>\n",
       "      <td>42.0</td>\n",
       "      <td>100.0</td>\n",
       "    </tr>\n",
       "  </tbody>\n",
       "</table>\n",
       "<p>2983739 rows × 9 columns</p>\n",
       "</div>"
      ],
      "text/plain": [
       "            ENC_ID  RECORDED_DAY RECORDED_TIME  PULSE  NIBP  BP_S  BP_D  RESP  \\\n",
       "0        572839292             0      09:40:00  140.0   NaN   NaN   NaN   NaN   \n",
       "1        572839292             0      09:45:00  148.0   NaN   NaN   NaN   NaN   \n",
       "2        572839292             0      09:50:00  150.0   NaN   NaN   NaN   NaN   \n",
       "3        572839292             0      09:55:00  154.0  30.0  48.0  22.0   NaN   \n",
       "4        572839292             0      09:56:00  139.0  32.0  50.0  22.0   NaN   \n",
       "...            ...           ...           ...    ...   ...   ...   ...   ...   \n",
       "2983734  572840984            26      07:00:00  182.0   NaN   NaN   NaN   NaN   \n",
       "2983735  572840984            26      08:00:00  181.0  61.0  79.0  50.0  62.0   \n",
       "2983736  572840984            26      09:00:00  167.0   NaN   NaN   NaN   NaN   \n",
       "2983737  572840984            26      10:00:00  164.0   NaN   NaN   NaN   NaN   \n",
       "2983738  572840984            26      11:00:00  172.0   NaN   NaN   NaN  42.0   \n",
       "\n",
       "          SPO2  \n",
       "0         88.0  \n",
       "1         92.0  \n",
       "2         94.0  \n",
       "3         97.0  \n",
       "4         91.0  \n",
       "...        ...  \n",
       "2983734   96.0  \n",
       "2983735  100.0  \n",
       "2983736   99.0  \n",
       "2983737  100.0  \n",
       "2983738  100.0  \n",
       "\n",
       "[2983739 rows x 9 columns]"
      ]
     },
     "execution_count": 33,
     "metadata": {},
     "output_type": "execute_result"
    }
   ],
   "source": [
    "vitals_df"
   ]
  },
  {
   "cell_type": "code",
   "execution_count": 58,
   "metadata": {},
   "outputs": [
    {
     "data": {
      "text/html": [
       "<div>\n",
       "<style scoped>\n",
       "    .dataframe tbody tr th:only-of-type {\n",
       "        vertical-align: middle;\n",
       "    }\n",
       "\n",
       "    .dataframe tbody tr th {\n",
       "        vertical-align: top;\n",
       "    }\n",
       "\n",
       "    .dataframe thead th {\n",
       "        text-align: right;\n",
       "    }\n",
       "</style>\n",
       "<table border=\"1\" class=\"dataframe\">\n",
       "  <thead>\n",
       "    <tr style=\"text-align: right;\">\n",
       "      <th></th>\n",
       "      <th>RECORDED_DAY</th>\n",
       "      <th>ENC_ID</th>\n",
       "      <th>PULSE</th>\n",
       "      <th>NIBP</th>\n",
       "      <th>BP_S</th>\n",
       "      <th>BP_D</th>\n",
       "      <th>RESP</th>\n",
       "      <th>SPO2</th>\n",
       "    </tr>\n",
       "  </thead>\n",
       "  <tbody>\n",
       "    <tr>\n",
       "      <th>0</th>\n",
       "      <td>0</td>\n",
       "      <td>572839292.0</td>\n",
       "      <td>152.491525</td>\n",
       "      <td>31.666667</td>\n",
       "      <td>47.333333</td>\n",
       "      <td>24.000000</td>\n",
       "      <td>NaN</td>\n",
       "      <td>93.850000</td>\n",
       "    </tr>\n",
       "    <tr>\n",
       "      <th>1</th>\n",
       "      <td>1</td>\n",
       "      <td>572839292.0</td>\n",
       "      <td>156.375000</td>\n",
       "      <td>35.000000</td>\n",
       "      <td>45.000000</td>\n",
       "      <td>30.000000</td>\n",
       "      <td>NaN</td>\n",
       "      <td>92.517857</td>\n",
       "    </tr>\n",
       "    <tr>\n",
       "      <th>2</th>\n",
       "      <td>2</td>\n",
       "      <td>572839292.0</td>\n",
       "      <td>153.164948</td>\n",
       "      <td>NaN</td>\n",
       "      <td>NaN</td>\n",
       "      <td>NaN</td>\n",
       "      <td>NaN</td>\n",
       "      <td>92.762887</td>\n",
       "    </tr>\n",
       "    <tr>\n",
       "      <th>3</th>\n",
       "      <td>3</td>\n",
       "      <td>572839292.0</td>\n",
       "      <td>162.020408</td>\n",
       "      <td>20.000000</td>\n",
       "      <td>38.000000</td>\n",
       "      <td>11.000000</td>\n",
       "      <td>NaN</td>\n",
       "      <td>95.581633</td>\n",
       "    </tr>\n",
       "    <tr>\n",
       "      <th>4</th>\n",
       "      <td>4</td>\n",
       "      <td>572839292.0</td>\n",
       "      <td>169.840426</td>\n",
       "      <td>24.500000</td>\n",
       "      <td>33.000000</td>\n",
       "      <td>19.000000</td>\n",
       "      <td>43.000000</td>\n",
       "      <td>93.308511</td>\n",
       "    </tr>\n",
       "    <tr>\n",
       "      <th>...</th>\n",
       "      <td>...</td>\n",
       "      <td>...</td>\n",
       "      <td>...</td>\n",
       "      <td>...</td>\n",
       "      <td>...</td>\n",
       "      <td>...</td>\n",
       "      <td>...</td>\n",
       "      <td>...</td>\n",
       "    </tr>\n",
       "    <tr>\n",
       "      <th>160</th>\n",
       "      <td>160</td>\n",
       "      <td>572839292.0</td>\n",
       "      <td>140.920000</td>\n",
       "      <td>43.000000</td>\n",
       "      <td>64.000000</td>\n",
       "      <td>32.333333</td>\n",
       "      <td>41.500000</td>\n",
       "      <td>97.640000</td>\n",
       "    </tr>\n",
       "    <tr>\n",
       "      <th>161</th>\n",
       "      <td>161</td>\n",
       "      <td>572839292.0</td>\n",
       "      <td>136.269231</td>\n",
       "      <td>56.000000</td>\n",
       "      <td>91.000000</td>\n",
       "      <td>43.500000</td>\n",
       "      <td>46.444444</td>\n",
       "      <td>97.692308</td>\n",
       "    </tr>\n",
       "    <tr>\n",
       "      <th>162</th>\n",
       "      <td>162</td>\n",
       "      <td>572839292.0</td>\n",
       "      <td>135.241379</td>\n",
       "      <td>78.000000</td>\n",
       "      <td>94.500000</td>\n",
       "      <td>68.000000</td>\n",
       "      <td>44.571429</td>\n",
       "      <td>97.647059</td>\n",
       "    </tr>\n",
       "    <tr>\n",
       "      <th>163</th>\n",
       "      <td>163</td>\n",
       "      <td>572839292.0</td>\n",
       "      <td>143.500000</td>\n",
       "      <td>42.000000</td>\n",
       "      <td>83.000000</td>\n",
       "      <td>52.000000</td>\n",
       "      <td>40.750000</td>\n",
       "      <td>NaN</td>\n",
       "    </tr>\n",
       "    <tr>\n",
       "      <th>164</th>\n",
       "      <td>164</td>\n",
       "      <td>572839292.0</td>\n",
       "      <td>146.470588</td>\n",
       "      <td>54.000000</td>\n",
       "      <td>80.000000</td>\n",
       "      <td>37.000000</td>\n",
       "      <td>44.666667</td>\n",
       "      <td>NaN</td>\n",
       "    </tr>\n",
       "  </tbody>\n",
       "</table>\n",
       "<p>165 rows × 8 columns</p>\n",
       "</div>"
      ],
      "text/plain": [
       "     RECORDED_DAY       ENC_ID       PULSE       NIBP       BP_S       BP_D  \\\n",
       "0               0  572839292.0  152.491525  31.666667  47.333333  24.000000   \n",
       "1               1  572839292.0  156.375000  35.000000  45.000000  30.000000   \n",
       "2               2  572839292.0  153.164948        NaN        NaN        NaN   \n",
       "3               3  572839292.0  162.020408  20.000000  38.000000  11.000000   \n",
       "4               4  572839292.0  169.840426  24.500000  33.000000  19.000000   \n",
       "..            ...          ...         ...        ...        ...        ...   \n",
       "160           160  572839292.0  140.920000  43.000000  64.000000  32.333333   \n",
       "161           161  572839292.0  136.269231  56.000000  91.000000  43.500000   \n",
       "162           162  572839292.0  135.241379  78.000000  94.500000  68.000000   \n",
       "163           163  572839292.0  143.500000  42.000000  83.000000  52.000000   \n",
       "164           164  572839292.0  146.470588  54.000000  80.000000  37.000000   \n",
       "\n",
       "          RESP       SPO2  \n",
       "0          NaN  93.850000  \n",
       "1          NaN  92.517857  \n",
       "2          NaN  92.762887  \n",
       "3          NaN  95.581633  \n",
       "4    43.000000  93.308511  \n",
       "..         ...        ...  \n",
       "160  41.500000  97.640000  \n",
       "161  46.444444  97.692308  \n",
       "162  44.571429  97.647059  \n",
       "163  40.750000        NaN  \n",
       "164  44.666667        NaN  \n",
       "\n",
       "[165 rows x 8 columns]"
      ]
     },
     "execution_count": 58,
     "metadata": {},
     "output_type": "execute_result"
    }
   ],
   "source": [
    "vitals_df.loc[vitals_df['ENC_ID'] == 572839292].groupby('RECORDED_DAY').mean().reset_index()"
   ]
  },
  {
   "cell_type": "code",
   "execution_count": 60,
   "metadata": {},
   "outputs": [],
   "source": [
    "patients = list(ec_df['ENC_ID'])\n",
    "days = list()\n",
    "avg_daily_spo2s = list()\n",
    "for patient in patients:\n",
    "    curr_df = vitals_df.loc[vitals_df['ENC_ID'] == patient]\n",
    "    curr_avgs = curr_df.groupby('RECORDED_DAY').mean().reset_index()\n",
    "    avg_daily_spo2s.append(list(curr_avgs['SPO2']))\n",
    "    days.append(list(curr_avgs['RECORDED_DAY']))"
   ]
  },
  {
   "cell_type": "code",
   "execution_count": 61,
   "metadata": {},
   "outputs": [
    {
     "data": {
      "text/html": [
       "<div>\n",
       "<style scoped>\n",
       "    .dataframe tbody tr th:only-of-type {\n",
       "        vertical-align: middle;\n",
       "    }\n",
       "\n",
       "    .dataframe tbody tr th {\n",
       "        vertical-align: top;\n",
       "    }\n",
       "\n",
       "    .dataframe thead th {\n",
       "        text-align: right;\n",
       "    }\n",
       "</style>\n",
       "<table border=\"1\" class=\"dataframe\">\n",
       "  <thead>\n",
       "    <tr style=\"text-align: right;\">\n",
       "      <th></th>\n",
       "      <th>RECORDED_DAY</th>\n",
       "      <th>ENC_ID</th>\n",
       "      <th>avg_daily_spo2</th>\n",
       "    </tr>\n",
       "  </thead>\n",
       "  <tbody>\n",
       "    <tr>\n",
       "      <th>0</th>\n",
       "      <td>[0, 1, 2, 3, 4, 5, 6, 7, 8, 9, 10, 11, 12, 13,...</td>\n",
       "      <td>572839292</td>\n",
       "      <td>[93.85, 92.51785714285714, 92.76288659793815, ...</td>\n",
       "    </tr>\n",
       "    <tr>\n",
       "      <th>1</th>\n",
       "      <td>[9, 10, 11, 12, 13, 14, 15, 16, 17, 18, 19, 20...</td>\n",
       "      <td>572839294</td>\n",
       "      <td>[94.23076923076923, 93.97916666666667, 93.8846...</td>\n",
       "    </tr>\n",
       "    <tr>\n",
       "      <th>2</th>\n",
       "      <td>[21, 22, 23, 24, 25, 26, 27, 28, 29, 30, 31, 3...</td>\n",
       "      <td>572839296</td>\n",
       "      <td>[97.0, 94.17142857142858, 94.02941176470588, 9...</td>\n",
       "    </tr>\n",
       "    <tr>\n",
       "      <th>3</th>\n",
       "      <td>[0, 1, 2, 3, 4, 5, 6, 7, 8, 9, 10, 11, 12, 13,...</td>\n",
       "      <td>572839301</td>\n",
       "      <td>[91.76190476190476, 91.83673469387755, 92.9183...</td>\n",
       "    </tr>\n",
       "    <tr>\n",
       "      <th>4</th>\n",
       "      <td>[27, 28, 29, 30, 31, 32, 33, 34, 35, 36, 37, 3...</td>\n",
       "      <td>572839302</td>\n",
       "      <td>[93.93103448275862, 91.88, 92.76470588235294, ...</td>\n",
       "    </tr>\n",
       "    <tr>\n",
       "      <th>...</th>\n",
       "      <td>...</td>\n",
       "      <td>...</td>\n",
       "      <td>...</td>\n",
       "    </tr>\n",
       "    <tr>\n",
       "      <th>918</th>\n",
       "      <td>[0, 1]</td>\n",
       "      <td>572840974</td>\n",
       "      <td>[78.64890282131661, 66.25570776255708]</td>\n",
       "    </tr>\n",
       "    <tr>\n",
       "      <th>919</th>\n",
       "      <td>[2, 3, 4, 5, 6, 7, 8, 9, 10, 11, 12, 13, 14]</td>\n",
       "      <td>572840980</td>\n",
       "      <td>[91.38888888888889, 93.70833333333333, 93.9306...</td>\n",
       "    </tr>\n",
       "    <tr>\n",
       "      <th>920</th>\n",
       "      <td>[0, 1, 2, 3, 4, 5]</td>\n",
       "      <td>572840981</td>\n",
       "      <td>[94.8, 96.29787234042553, 97.64583333333333, 9...</td>\n",
       "    </tr>\n",
       "    <tr>\n",
       "      <th>921</th>\n",
       "      <td>[0, 1, 2, 3, 4, 5, 6, 7, 8, 9]</td>\n",
       "      <td>572840983</td>\n",
       "      <td>[99.83333333333333, 99.66666666666667, 99.7037...</td>\n",
       "    </tr>\n",
       "    <tr>\n",
       "      <th>922</th>\n",
       "      <td>[0, 1, 2, 3, 4, 5, 6, 7, 8, 9, 10, 11, 12, 13,...</td>\n",
       "      <td>572840984</td>\n",
       "      <td>[97.25217391304348, 98.11627906976744, 97.9791...</td>\n",
       "    </tr>\n",
       "  </tbody>\n",
       "</table>\n",
       "<p>923 rows × 3 columns</p>\n",
       "</div>"
      ],
      "text/plain": [
       "                                          RECORDED_DAY     ENC_ID  \\\n",
       "0    [0, 1, 2, 3, 4, 5, 6, 7, 8, 9, 10, 11, 12, 13,...  572839292   \n",
       "1    [9, 10, 11, 12, 13, 14, 15, 16, 17, 18, 19, 20...  572839294   \n",
       "2    [21, 22, 23, 24, 25, 26, 27, 28, 29, 30, 31, 3...  572839296   \n",
       "3    [0, 1, 2, 3, 4, 5, 6, 7, 8, 9, 10, 11, 12, 13,...  572839301   \n",
       "4    [27, 28, 29, 30, 31, 32, 33, 34, 35, 36, 37, 3...  572839302   \n",
       "..                                                 ...        ...   \n",
       "918                                             [0, 1]  572840974   \n",
       "919       [2, 3, 4, 5, 6, 7, 8, 9, 10, 11, 12, 13, 14]  572840980   \n",
       "920                                 [0, 1, 2, 3, 4, 5]  572840981   \n",
       "921                     [0, 1, 2, 3, 4, 5, 6, 7, 8, 9]  572840983   \n",
       "922  [0, 1, 2, 3, 4, 5, 6, 7, 8, 9, 10, 11, 12, 13,...  572840984   \n",
       "\n",
       "                                        avg_daily_spo2  \n",
       "0    [93.85, 92.51785714285714, 92.76288659793815, ...  \n",
       "1    [94.23076923076923, 93.97916666666667, 93.8846...  \n",
       "2    [97.0, 94.17142857142858, 94.02941176470588, 9...  \n",
       "3    [91.76190476190476, 91.83673469387755, 92.9183...  \n",
       "4    [93.93103448275862, 91.88, 92.76470588235294, ...  \n",
       "..                                                 ...  \n",
       "918             [78.64890282131661, 66.25570776255708]  \n",
       "919  [91.38888888888889, 93.70833333333333, 93.9306...  \n",
       "920  [94.8, 96.29787234042553, 97.64583333333333, 9...  \n",
       "921  [99.83333333333333, 99.66666666666667, 99.7037...  \n",
       "922  [97.25217391304348, 98.11627906976744, 97.9791...  \n",
       "\n",
       "[923 rows x 3 columns]"
      ]
     },
     "execution_count": 61,
     "metadata": {},
     "output_type": "execute_result"
    }
   ],
   "source": [
    "avg_spo2s_df = pd.DataFrame({'RECORDED_DAY': days, 'ENC_ID': patients, 'avg_daily_spo2': avg_daily_spo2s})\n",
    "avg_spo2s_df"
   ]
  },
  {
   "cell_type": "code",
   "execution_count": 66,
   "metadata": {},
   "outputs": [
    {
     "data": {
      "text/html": [
       "<div>\n",
       "<style scoped>\n",
       "    .dataframe tbody tr th:only-of-type {\n",
       "        vertical-align: middle;\n",
       "    }\n",
       "\n",
       "    .dataframe tbody tr th {\n",
       "        vertical-align: top;\n",
       "    }\n",
       "\n",
       "    .dataframe thead th {\n",
       "        text-align: right;\n",
       "    }\n",
       "</style>\n",
       "<table border=\"1\" class=\"dataframe\">\n",
       "  <thead>\n",
       "    <tr style=\"text-align: right;\">\n",
       "      <th></th>\n",
       "      <th></th>\n",
       "      <th>PULSE</th>\n",
       "      <th>NIBP</th>\n",
       "      <th>BP_S</th>\n",
       "      <th>BP_D</th>\n",
       "      <th>RESP</th>\n",
       "      <th>SPO2</th>\n",
       "    </tr>\n",
       "    <tr>\n",
       "      <th>ENC_ID</th>\n",
       "      <th>RECORDED_DAY</th>\n",
       "      <th></th>\n",
       "      <th></th>\n",
       "      <th></th>\n",
       "      <th></th>\n",
       "      <th></th>\n",
       "      <th></th>\n",
       "    </tr>\n",
       "  </thead>\n",
       "  <tbody>\n",
       "    <tr>\n",
       "      <th rowspan=\"5\" valign=\"top\">572839292</th>\n",
       "      <th>0</th>\n",
       "      <td>152.491525</td>\n",
       "      <td>31.666667</td>\n",
       "      <td>47.333333</td>\n",
       "      <td>24.0</td>\n",
       "      <td>NaN</td>\n",
       "      <td>93.850000</td>\n",
       "    </tr>\n",
       "    <tr>\n",
       "      <th>1</th>\n",
       "      <td>156.375000</td>\n",
       "      <td>35.000000</td>\n",
       "      <td>45.000000</td>\n",
       "      <td>30.0</td>\n",
       "      <td>NaN</td>\n",
       "      <td>92.517857</td>\n",
       "    </tr>\n",
       "    <tr>\n",
       "      <th>2</th>\n",
       "      <td>153.164948</td>\n",
       "      <td>NaN</td>\n",
       "      <td>NaN</td>\n",
       "      <td>NaN</td>\n",
       "      <td>NaN</td>\n",
       "      <td>92.762887</td>\n",
       "    </tr>\n",
       "    <tr>\n",
       "      <th>3</th>\n",
       "      <td>162.020408</td>\n",
       "      <td>20.000000</td>\n",
       "      <td>38.000000</td>\n",
       "      <td>11.0</td>\n",
       "      <td>NaN</td>\n",
       "      <td>95.581633</td>\n",
       "    </tr>\n",
       "    <tr>\n",
       "      <th>4</th>\n",
       "      <td>169.840426</td>\n",
       "      <td>24.500000</td>\n",
       "      <td>33.000000</td>\n",
       "      <td>19.0</td>\n",
       "      <td>43.000</td>\n",
       "      <td>93.308511</td>\n",
       "    </tr>\n",
       "    <tr>\n",
       "      <th>...</th>\n",
       "      <th>...</th>\n",
       "      <td>...</td>\n",
       "      <td>...</td>\n",
       "      <td>...</td>\n",
       "      <td>...</td>\n",
       "      <td>...</td>\n",
       "      <td>...</td>\n",
       "    </tr>\n",
       "    <tr>\n",
       "      <th rowspan=\"5\" valign=\"top\">572840984</th>\n",
       "      <th>22</th>\n",
       "      <td>165.920000</td>\n",
       "      <td>51.500000</td>\n",
       "      <td>71.500000</td>\n",
       "      <td>43.5</td>\n",
       "      <td>49.375</td>\n",
       "      <td>97.840000</td>\n",
       "    </tr>\n",
       "    <tr>\n",
       "      <th>23</th>\n",
       "      <td>163.600000</td>\n",
       "      <td>51.500000</td>\n",
       "      <td>70.500000</td>\n",
       "      <td>41.5</td>\n",
       "      <td>47.625</td>\n",
       "      <td>98.708333</td>\n",
       "    </tr>\n",
       "    <tr>\n",
       "      <th>24</th>\n",
       "      <td>172.666667</td>\n",
       "      <td>52.800000</td>\n",
       "      <td>67.600000</td>\n",
       "      <td>45.6</td>\n",
       "      <td>53.000</td>\n",
       "      <td>98.875000</td>\n",
       "    </tr>\n",
       "    <tr>\n",
       "      <th>25</th>\n",
       "      <td>169.458333</td>\n",
       "      <td>50.200000</td>\n",
       "      <td>74.000000</td>\n",
       "      <td>38.6</td>\n",
       "      <td>53.125</td>\n",
       "      <td>98.833333</td>\n",
       "    </tr>\n",
       "    <tr>\n",
       "      <th>26</th>\n",
       "      <td>173.000000</td>\n",
       "      <td>60.500000</td>\n",
       "      <td>79.500000</td>\n",
       "      <td>49.0</td>\n",
       "      <td>53.250</td>\n",
       "      <td>97.166667</td>\n",
       "    </tr>\n",
       "  </tbody>\n",
       "</table>\n",
       "<p>74296 rows × 6 columns</p>\n",
       "</div>"
      ],
      "text/plain": [
       "                             PULSE       NIBP       BP_S  BP_D    RESP  \\\n",
       "ENC_ID    RECORDED_DAY                                                   \n",
       "572839292 0             152.491525  31.666667  47.333333  24.0     NaN   \n",
       "          1             156.375000  35.000000  45.000000  30.0     NaN   \n",
       "          2             153.164948        NaN        NaN   NaN     NaN   \n",
       "          3             162.020408  20.000000  38.000000  11.0     NaN   \n",
       "          4             169.840426  24.500000  33.000000  19.0  43.000   \n",
       "...                            ...        ...        ...   ...     ...   \n",
       "572840984 22            165.920000  51.500000  71.500000  43.5  49.375   \n",
       "          23            163.600000  51.500000  70.500000  41.5  47.625   \n",
       "          24            172.666667  52.800000  67.600000  45.6  53.000   \n",
       "          25            169.458333  50.200000  74.000000  38.6  53.125   \n",
       "          26            173.000000  60.500000  79.500000  49.0  53.250   \n",
       "\n",
       "                             SPO2  \n",
       "ENC_ID    RECORDED_DAY             \n",
       "572839292 0             93.850000  \n",
       "          1             92.517857  \n",
       "          2             92.762887  \n",
       "          3             95.581633  \n",
       "          4             93.308511  \n",
       "...                           ...  \n",
       "572840984 22            97.840000  \n",
       "          23            98.708333  \n",
       "          24            98.875000  \n",
       "          25            98.833333  \n",
       "          26            97.166667  \n",
       "\n",
       "[74296 rows x 6 columns]"
      ]
     },
     "execution_count": 66,
     "metadata": {},
     "output_type": "execute_result"
    },
    {
     "data": {
      "image/png": "[encoded data removed]",
      "text/plain": [
       "<Figure size 432x288 with 1 Axes>"
      ]
     },
     "metadata": {
      "needs_background": "light"
     },
     "output_type": "display_data"
    }
   ],
   "source": [
    "sns.histplot(data=vitals_df.groupby('ENC_ID').mean(), x='RECORDED_DAY')\n",
    "vitals_df.groupby(['ENC_ID', 'RECORDED_DAY']).mean()"
   ]
  },
  {
   "cell_type": "code",
   "execution_count": 73,
   "metadata": {},
   "outputs": [
    {
     "data": {
      "text/html": [
       "<div>\n",
       "<style scoped>\n",
       "    .dataframe tbody tr th:only-of-type {\n",
       "        vertical-align: middle;\n",
       "    }\n",
       "\n",
       "    .dataframe tbody tr th {\n",
       "        vertical-align: top;\n",
       "    }\n",
       "\n",
       "    .dataframe thead th {\n",
       "        text-align: right;\n",
       "    }\n",
       "</style>\n",
       "<table border=\"1\" class=\"dataframe\">\n",
       "  <thead>\n",
       "    <tr style=\"text-align: right;\">\n",
       "      <th></th>\n",
       "      <th></th>\n",
       "      <th>RECORDED_TIME</th>\n",
       "      <th>PULSE</th>\n",
       "      <th>NIBP</th>\n",
       "      <th>BP_S</th>\n",
       "      <th>BP_D</th>\n",
       "      <th>RESP</th>\n",
       "      <th>SPO2</th>\n",
       "    </tr>\n",
       "    <tr>\n",
       "      <th>RECORDED_DAY</th>\n",
       "      <th>ENC_ID</th>\n",
       "      <th></th>\n",
       "      <th></th>\n",
       "      <th></th>\n",
       "      <th></th>\n",
       "      <th></th>\n",
       "      <th></th>\n",
       "      <th></th>\n",
       "    </tr>\n",
       "  </thead>\n",
       "  <tbody>\n",
       "    <tr>\n",
       "      <th rowspan=\"5\" valign=\"top\">0</th>\n",
       "      <th>572839292</th>\n",
       "      <td>60</td>\n",
       "      <td>59</td>\n",
       "      <td>3</td>\n",
       "      <td>3</td>\n",
       "      <td>3</td>\n",
       "      <td>0</td>\n",
       "      <td>60</td>\n",
       "    </tr>\n",
       "    <tr>\n",
       "      <th>572839301</th>\n",
       "      <td>22</td>\n",
       "      <td>19</td>\n",
       "      <td>4</td>\n",
       "      <td>4</td>\n",
       "      <td>4</td>\n",
       "      <td>2</td>\n",
       "      <td>21</td>\n",
       "    </tr>\n",
       "    <tr>\n",
       "      <th>572839306</th>\n",
       "      <td>228</td>\n",
       "      <td>227</td>\n",
       "      <td>0</td>\n",
       "      <td>0</td>\n",
       "      <td>0</td>\n",
       "      <td>0</td>\n",
       "      <td>228</td>\n",
       "    </tr>\n",
       "    <tr>\n",
       "      <th>572839307</th>\n",
       "      <td>139</td>\n",
       "      <td>137</td>\n",
       "      <td>9</td>\n",
       "      <td>9</td>\n",
       "      <td>9</td>\n",
       "      <td>11</td>\n",
       "      <td>111</td>\n",
       "    </tr>\n",
       "    <tr>\n",
       "      <th>572839311</th>\n",
       "      <td>26</td>\n",
       "      <td>26</td>\n",
       "      <td>7</td>\n",
       "      <td>7</td>\n",
       "      <td>7</td>\n",
       "      <td>5</td>\n",
       "      <td>26</td>\n",
       "    </tr>\n",
       "    <tr>\n",
       "      <th>...</th>\n",
       "      <th>...</th>\n",
       "      <td>...</td>\n",
       "      <td>...</td>\n",
       "      <td>...</td>\n",
       "      <td>...</td>\n",
       "      <td>...</td>\n",
       "      <td>...</td>\n",
       "      <td>...</td>\n",
       "    </tr>\n",
       "    <tr>\n",
       "      <th>748</th>\n",
       "      <th>572840380</th>\n",
       "      <td>1</td>\n",
       "      <td>1</td>\n",
       "      <td>1</td>\n",
       "      <td>1</td>\n",
       "      <td>1</td>\n",
       "      <td>1</td>\n",
       "      <td>1</td>\n",
       "    </tr>\n",
       "    <tr>\n",
       "      <th>749</th>\n",
       "      <th>572840380</th>\n",
       "      <td>7</td>\n",
       "      <td>3</td>\n",
       "      <td>2</td>\n",
       "      <td>2</td>\n",
       "      <td>2</td>\n",
       "      <td>2</td>\n",
       "      <td>7</td>\n",
       "    </tr>\n",
       "    <tr>\n",
       "      <th>750</th>\n",
       "      <th>572840380</th>\n",
       "      <td>14</td>\n",
       "      <td>12</td>\n",
       "      <td>2</td>\n",
       "      <td>2</td>\n",
       "      <td>2</td>\n",
       "      <td>2</td>\n",
       "      <td>14</td>\n",
       "    </tr>\n",
       "    <tr>\n",
       "      <th>751</th>\n",
       "      <th>572840380</th>\n",
       "      <td>8</td>\n",
       "      <td>7</td>\n",
       "      <td>2</td>\n",
       "      <td>2</td>\n",
       "      <td>2</td>\n",
       "      <td>2</td>\n",
       "      <td>8</td>\n",
       "    </tr>\n",
       "    <tr>\n",
       "      <th>752</th>\n",
       "      <th>572840380</th>\n",
       "      <td>10</td>\n",
       "      <td>8</td>\n",
       "      <td>1</td>\n",
       "      <td>1</td>\n",
       "      <td>1</td>\n",
       "      <td>1</td>\n",
       "      <td>10</td>\n",
       "    </tr>\n",
       "  </tbody>\n",
       "</table>\n",
       "<p>74296 rows × 7 columns</p>\n",
       "</div>"
      ],
      "text/plain": [
       "                        RECORDED_TIME  PULSE  NIBP  BP_S  BP_D  RESP  SPO2\n",
       "RECORDED_DAY ENC_ID                                                       \n",
       "0            572839292             60     59     3     3     3     0    60\n",
       "             572839301             22     19     4     4     4     2    21\n",
       "             572839306            228    227     0     0     0     0   228\n",
       "             572839307            139    137     9     9     9    11   111\n",
       "             572839311             26     26     7     7     7     5    26\n",
       "...                               ...    ...   ...   ...   ...   ...   ...\n",
       "748          572840380              1      1     1     1     1     1     1\n",
       "749          572840380              7      3     2     2     2     2     7\n",
       "750          572840380             14     12     2     2     2     2    14\n",
       "751          572840380              8      7     2     2     2     2     8\n",
       "752          572840380             10      8     1     1     1     1    10\n",
       "\n",
       "[74296 rows x 7 columns]"
      ]
     },
     "execution_count": 73,
     "metadata": {},
     "output_type": "execute_result"
    }
   ],
   "source": [
    "vitals_df.groupby(['RECORDED_DAY', 'ENC_ID']).count()"
   ]
  },
  {
   "cell_type": "code",
   "execution_count": 72,
   "metadata": {},
   "outputs": [
    {
     "data": {
      "text/plain": [
       "24     11118\n",
       "25      6408\n",
       "48      5707\n",
       "26      4377\n",
       "49      4243\n",
       "       ...  \n",
       "685        1\n",
       "316        1\n",
       "353        1\n",
       "217        1\n",
       "145        1\n",
       "Name: RECORDED_TIME, Length: 320, dtype: int64"
      ]
     },
     "execution_count": 72,
     "metadata": {},
     "output_type": "execute_result"
    },
    {
     "data": {
      "image/png": "[encoded data removed]",
      "text/plain": [
       "<Figure size 432x288 with 1 Axes>"
      ]
     },
     "metadata": {
      "needs_background": "light"
     },
     "output_type": "display_data"
    }
   ],
   "source": [
    "sns.histplot(data=vitals_df.groupby(['RECORDED_DAY', 'ENC_ID']).count(), x='RECORDED_TIME')\n",
    "vitals_df.groupby(['RECORDED_DAY', 'ENC_ID']).count()['RECORDED_TIME'].value_counts()"
   ]
  },
  {
   "cell_type": "code",
   "execution_count": null,
   "metadata": {},
   "outputs": [],
   "source": []
  }
 ],
 "metadata": {
  "kernelspec": {
   "display_name": "bpd-subtyping",
   "language": "python",
   "name": "bpd-subtyping"
  },
  "language_info": {
   "codemirror_mode": {
    "name": "ipython",
    "version": 3
   },
   "file_extension": ".py",
   "mimetype": "text/x-python",
   "name": "python",
   "nbconvert_exporter": "python",
   "pygments_lexer": "ipython3",
   "version": "3.9.12"
  }
 },
 "nbformat": 4,
 "nbformat_minor": 4
}
